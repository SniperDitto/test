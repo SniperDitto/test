{
 "cells": [
  {
   "cell_type": "markdown",
   "metadata": {
    "id": "LbklyVgjezc7"
   },
   "source": [
    "# 2022 PAC Python Study 1\n",
    "\n",
    "1장 - 자료형"
   ]
  },
  {
   "cell_type": "markdown",
   "metadata": {
    "id": "jzvgX72sfH5m"
   },
   "source": [
    "# 기초"
   ]
  },
  {
   "cell_type": "code",
   "execution_count": null,
   "metadata": {
    "id": "MPHCvHUBjtLm"
   },
   "outputs": [],
   "source": [
    "# 주석은 이 문장과 같이 가장 앞에 '#'을 넣어 만듭니다.\n",
    "# '#'을 이용하여 주석처리하는 문장은 한 줄만 유효합니다.\n",
    "# 주석처리한 내용은 컴퓨터가 실행하지 않습니다! 코드 설명등을 넣을 때 사용합니다.\n",
    "\n",
    "'''\n",
    "여러 줄 주석은 작은 따옴표나, 큰 따옴표를 3개 연속으로 붙여 만듭니다.\n",
    "그런데 구글 코랩에서는 제대로 되지 않네요...\n",
    "VSC나 PyCharm을 사용하신다면 연습해보도록 합시다.\n",
    "'''\n"
   ]
  },
  {
   "cell_type": "code",
   "execution_count": null,
   "metadata": {
    "id": "RgMrPNbpZmYV"
   },
   "outputs": [],
   "source": [
    "# 변수 대입\n",
    "\n",
    "n = 1234567\n",
    "number = 2022   #숫자 대입\n",
    "s = \"ㅁㄴㅇㄹ\"\n",
    "alphabet = 'abced'   #문자열 대입\n",
    "# 저는 습관적으로 띄워쓰지만, a=123 처럼 붙여쓰셔도 정상 작동합니다^~^\n",
    "\n",
    "a,b,c = 15,'asdfg',30   #한번에 여러개도 집어넣을수 있답니다.\n",
    "print(a,b,c)\n",
    "\n",
    "# result_fn = anyfunction(x)   #함수의 결과값도 변수에 대입 가능"
   ]
  },
  {
   "cell_type": "code",
   "execution_count": null,
   "metadata": {
    "id": "h4o6nFoWemPB"
   },
   "outputs": [],
   "source": [
    "# 출력\n",
    "\n",
    "print('Hello world!')   #문자열 출력(숫자도 동일하게 가능)\n",
    "\n",
    "a = '1a2a3a'\n",
    "print(a)\n",
    "b = 20222022\n",
    "print(b)   #변수도 바로 출력이 가능합니다.\n",
    "print(a, end='\\n')   #end= 부분은 마지막에 출력\n",
    "print(a, b, sep='\\t')   #sep= 부분은 각 변수 사이에 출력"
   ]
  },
  {
   "cell_type": "code",
   "execution_count": null,
   "metadata": {
    "id": "T8rvF9sji2t2"
   },
   "outputs": [],
   "source": [
    "# 연습문제\n",
    "\n",
    "# 1. 임의의 변수에 문자열 '2022_PAC_Python_study' 를 대입해보세요.\n",
    "# 2. 임의의 변수에 숫자 '369369' 를 대입해보세요.\n",
    "# 3. print를 이용해서 문자열 'PAC' 을 출력해보세요.\n",
    "# 4. 문제 1, 2에서 생성한 변수를 각각 출력해보세요."
   ]
  },
  {
   "cell_type": "markdown",
   "metadata": {
    "id": "NCTfMYAwk2I2"
   },
   "source": [
    "# 숫자형"
   ]
  },
  {
   "cell_type": "code",
   "execution_count": null,
   "metadata": {
    "id": "tVpVEWqqk5v2"
   },
   "outputs": [],
   "source": [
    "# 숫자형의 종류\n",
    "\n",
    "#정수형(integer)\n",
    "A = 123\n",
    "B = -456\n",
    "C = 0\n",
    "\n",
    "#실수형(float)\n",
    "D = 1.234\n",
    "E = -5.678\n",
    "F = 9.012E10   #10의 10승(지수표현)\n",
    "G = 3.456e-10   #10의 -10승(지수표현) \n",
    "\n",
    "#이런식으로 형태를 바꿀 수 있어요!\n",
    "X = int(D)\n",
    "Y = float(B)\n",
    "print(X)   #실수형을 정수형으로 바꾸면, 소숫점 아랫자리는 날라가버린답니다.\n",
    "print(Y)\n",
    "print(type(X), type(Y))   #type 함수를 사용하면, 변수의 타입을 알 수 있어요!\n",
    "\n",
    "#8진수, 16진수 표현은 잘 사용하지 않는 표현이니 생략합니다 ^~^~^ 각자 찾아보아요"
   ]
  },
  {
   "cell_type": "code",
   "execution_count": null,
   "metadata": {
    "id": "ErNn6beYlqI5"
   },
   "outputs": [],
   "source": [
    "# 숫자 연산자\n",
    "\n",
    "#사칙연산\n",
    "a = 3\n",
    "b = 4\n",
    "\n",
    "a + b   #더하기\n",
    "a - b   #빼기\n",
    "a * b   #곱하기\n",
    "a / b   #나누기\n",
    "\n",
    "#기타연산\n",
    "a ** b   #a의 b제곱\n",
    "a // b   # 나눗셈의 몫 반환\n",
    "a % b   #나눗셈의 나머지 반환"
   ]
  },
  {
   "cell_type": "code",
   "execution_count": null,
   "metadata": {
    "id": "YejtuKY1mTwU"
   },
   "outputs": [],
   "source": [
    "# 연습문제\n",
    "\n",
    "# 1. 아래 주어진 변수들을 이용해서, 숫자 10을 만드세요.\n",
    "a = 3\n",
    "b = 5\n",
    "\n",
    "# 2. 아래는 전산물리학을 수강한 수강생의 과제 점수입니다. 평균을 계산해보세요.\n",
    "HW_1 = 50\n",
    "HW_2 = 27\n",
    "HW_3 = 74\n",
    "\n",
    "# 3. 9876543210 을 1234567890으로 나누면 몫은 얼마일까요? 나머지는요?"
   ]
  },
  {
   "cell_type": "markdown",
   "metadata": {
    "id": "kf7drLW3k2zn"
   },
   "source": [
    "# 문자열 자료형"
   ]
  },
  {
   "cell_type": "code",
   "execution_count": null,
   "metadata": {
    "colab": {
     "base_uri": "https://localhost:8080/"
    },
    "id": "yDigF3THovKB",
    "outputId": "f84fed9f-b4ce-49f7-c2bd-ad898f0334ff"
   },
   "outputs": [
    {
     "name": "stdout",
     "output_type": "stream",
     "text": [
      "<class 'str'>\n"
     ]
    }
   ],
   "source": [
    "# 문자열 만들기\n",
    "\n",
    "#한 줄\n",
    "our_dept = 'PNU_Physics'\n",
    "my_dept = \"Department of Physics\"\n",
    "\n",
    "#여러 줄\n",
    "oh = '''\n",
    "이렇게 따옴표를\n",
    "세개 연달아치면\n",
    "여러줄짜리 문자열을\n",
    "만들수있어요\n",
    "^~^~^\n",
    "'''\n",
    "\n",
    "singi = \"\"\"\n",
    "ㅜㅜ\n",
    "예넘\n",
    "제모\n",
    "만귀\n",
    "들찮\n",
    "기다\n",
    "\"\"\"\n",
    "\n",
    "hada = '이렇게 이스케이프코드 \\n을 넣으면 띄워쓰기가 되는데 읽기가 힘들겠쥬?'   # \\ : 백슬래시\n",
    "\n",
    "#이런식으로 형태를 바꿀 수 있어요!\n",
    "X = 123456\n",
    "Y = str(X)\n",
    "print(type(Y))\n",
    "\n",
    "# 문자열 안에 작은따옴표, 큰따옴표 넣기\n",
    "ohh = '이렇게하면 \"큰따옴표를\" '\n",
    "yogo = \"이렇게하면 '작은따옴표를' \"\n",
    "singibanggi = '이렇게하면 \\'둘\\\"다 넣을 수 있슴니다'"
   ]
  },
  {
   "cell_type": "code",
   "execution_count": null,
   "metadata": {
    "id": "xSS2vlROqtbo"
   },
   "outputs": [],
   "source": [
    "# 이스케이프 코드\n",
    "\n",
    "# \\n   문자열 안에서 줄바꿈\n",
    "# \\t   문자열 사이 탭 간격\n",
    "# \\\\   백슬래시를 그대로 표현\n",
    "# \\'   작은따옴표 그대로 표현\n",
    "# \\\"   큰따옴표 그대로 표현\n",
    "# \\r   캐리지 리턴(줄바꿈, 현재 커서를 가장 앞으로 이동) \n",
    "# \\f   폼 피드(줄바꿈, 현재 커서를 다음줄로 이동)\n",
    "# \\a   벨 소리 (PC에서 삑 소리가 남. 근데 왜 내 노트북에선 안나지?)\n",
    "# \\b   백스페이스\n",
    "# \\000   널 문자\n",
    "\n",
    "#활용빈도 높은 코드\n",
    "# '\\n \\t \\\\ \\' \\\"'"
   ]
  },
  {
   "cell_type": "code",
   "execution_count": null,
   "metadata": {
    "id": "0nXj2bV9refB"
   },
   "outputs": [],
   "source": [
    "# 문자열 연산\n",
    "\n",
    "my_club = 'PAC'\n",
    "my_dept = 'Physics'\n",
    "\n",
    "print(my_club + my_dept)   #문자열 더해서 연결하기\n",
    "print(my_club * 2)   #문자열 곱하기\n",
    "print(my_dept * 10, my_club, my_dept *10, sep='\\n')   #이런것도 가능\n",
    "club_l = len(my_club)\n",
    "dept_l = len(my_dept)\n",
    "print(club_l, dept_l)   #함수 len : 문자열의 길이 반환"
   ]
  },
  {
   "cell_type": "code",
   "execution_count": null,
   "metadata": {
    "id": "2AxEoI35tDHn"
   },
   "outputs": [],
   "source": [
    "# 인덱싱과 슬라이싱\n",
    "\n",
    "#인덱싱\n",
    "#문자열 각 문자에는 번호가 부여되어있음 \n",
    "#주의! Python은 번호를 0 부터 센다.\n",
    "\n",
    "a = 'Welcome to Physics Advanced Computer, PAC'\n",
    "print(a[1])\n",
    "print(a[20])\n",
    "print(a[-1])\n",
    "#이 방법으로 문자열을 수정할수는 없음.\n",
    "\n",
    "#슬라이싱\n",
    "#인덱싱이 각 문자 하나를 뽑아냈다면, 슬라이싱은 범위로 뽑아냄\n",
    "#[a:b] 는 a<= x < b 와 같음. a 이상 b '미만'\n",
    "#[a:b:c] 는 a<= x < b 를 c의 간격으로 세는것과 같습니다.\n",
    "\n",
    "a = 'Welcome to Physics Advanced Computer, PAC'\n",
    "print(a[0:6])\n",
    "print(a[:6])   #앞을 생략하면 문장의 제일 앞\n",
    "print(a[0:7])\n",
    "print(a[8:])   #뒤를 생략하면 문장의 끝까지\n",
    "print(a[-5:-1])\n",
    "print(a[0:7:2])   # : 을 하나 더 추가하면, 마지막 숫자만큼 띄워서 셉니다.\n",
    "print(a[::2])\n",
    "#마찬가지로 이 방법으로 문자열을 수정할 수 없음.\n",
    "\n",
    "print(a[:17]+'al'+a[18:])   #이런식으로 슬라이싱을 응용할 수 있습니다."
   ]
  },
  {
   "cell_type": "code",
   "execution_count": null,
   "metadata": {
    "id": "z6rj96nXvn1l"
   },
   "outputs": [],
   "source": [
    "# 문자열 포메팅(formatting)\n",
    "\n",
    "# 포맷 코드로 포매팅\n",
    "print('I eat %d chickens' %3)   # %d : 숫자열 대입\n",
    "ohgod = 99999\n",
    "print('I eat %d chickens' %ohgod)\n",
    "print('진도율 %d%% 달성' %100)   # % 포메팅과 % 문자열을 같이 쓸 때는 %% 하세요.\n",
    "\n",
    "print('You are %s' %'smart')   # %s : 문자열 대입\n",
    "daldal = 'sweet'\n",
    "print('You are %s' %'daldal')\n",
    "\n",
    "print('비둘기는 %d 하고 웁니다. so %s' %(ohgod, daldal))   #여러개 대입하기\n",
    "\n",
    "\n",
    "# 포메팅 문자\n",
    "# %s   문자열\n",
    "# %d   정수0\n",
    "# %f   부동소수\n",
    "# %%   % 문자\n",
    "# 그 외는 각자 찾아보세요 ^~^\n",
    "\n",
    "print('%10s' %'oh')   #앞에 공백 10개\n",
    "print('%-10s AC' %'P')   #뒤에 공백 10개\n",
    "f = 3.141592\n",
    "print('%0.3f' %f)   #소숫점 아래 숫자 제한\n",
    "print('%10.2f' %f)\n",
    "\n",
    "\n",
    "# format 함수로 포매팅\n",
    "club = 'PAC'\n",
    "isgood = 'good?'\n",
    "num = 1\n",
    "\n",
    "print(\"Is it {}\". format('good'))\n",
    "print('{} apple'. format(5))\n",
    "print('{} is {}'. format(club, isgood))\n",
    "print('{누가} {숫자}개의 문제를 모르겠어요'. format(누가='나는', 숫자=3))\n",
    "\n",
    "print('{:<20}'. format('좌로정렬'))\n",
    "print('{:>20}'. format('우로정렬'))\n",
    "print('{:^20}'. format('가운데로정렬'))\n",
    "print('{:!>20}'. format('채우기도 가능'))\n",
    "#소숫점표현 포맷코드 포매팅과 같습니다\n",
    "\n",
    "\n",
    "# f 문자열 포매팅 (Python 3.6 ver. 부터 가능)\n",
    "club = 'PAC'\n",
    "isgood = 'good?'\n",
    "print(f'{club} is {isgood}')\n",
    "\n",
    "dicc = {'club' : 'PAC', 'isgood' : 'good!'}\n",
    "print(f'{dicc[\"club\"]} is {dicc[\"isgood\"]}')   #딕셔너리에서는 이렇게 사용 (딕셔너리는 나중에 공부합시다 ^~^)\n",
    "#각종 표현은 format 함수 포매팅과 동일"
   ]
  },
  {
   "cell_type": "code",
   "execution_count": null,
   "metadata": {
    "id": "SVHWTkqz1cYy"
   },
   "outputs": [],
   "source": [
    "# 문자열 관련 함수\n",
    "\n",
    "a = 'abbcccdddd'\n",
    "print(a.count('c'))   #갯수 세기 : 문자가 몇번 나왔는지 세어줌\n",
    "\n",
    "a = 'Python is awesome!!'\n",
    "print(a.find('o'))   #위치 알려주기 : 가장 처음 나온 위치 반환 (없으면 -1 반환)\n",
    "print(a.index('y'))   #위치 알려주기 : 가장 처음 나온 위치 반환 (없으면 error 발생!)\n",
    "\n",
    "a = '하나둘셋야'\n",
    "print('!'.join(a))   #문자열 삽입 : 문자열 각각의 문자사이에 문자 삽입\n",
    "print(','.join(['1','2','3','4']))   #리스트에서는 이렇게 응용 가능 (리스트도 나중에 공부합시다 ^~^)\n",
    "\n",
    "a = 'hello?'\n",
    "print(a.upper())   #알파벳 소문자를 대문자로\n",
    "\n",
    "a = 'HELLO!'\n",
    "print(a.lower())   #알파벳 대문자를 소문자로\n",
    "\n",
    "a = '   hi?   '\n",
    "print(a.lstrip())   #왼쪽 공백 지우기\n",
    "print(a.rstrip())   #오른쪽 공백 지우기\n",
    "print(a.strip())   #양쪽 공백 지우기\n",
    "\n",
    "a = 'PAC is BAD club'\n",
    "print(a.replace('BAD', 'GOOD'))   #문자열 바꾸기\n",
    "\n",
    "a = 'life is too short'\n",
    "b = 'you!need!Python'\n",
    "print(a.split())   #아무것도 넣지 않으면 공백을 기준으로 문자열을 나눠 '리스트'로 반환\n",
    "print(b.split('!'))   #무언가를 넣어주면 그걸 기준으로 문자열을 나눠 '리스트'로 반환"
   ]
  },
  {
   "cell_type": "code",
   "execution_count": null,
   "metadata": {
    "id": "vondg8fU_Blh"
   },
   "outputs": [],
   "source": [
    "# 연습문제\n",
    "\n",
    "# 1. 아래 문자열 사이에 * 문자를 넣어서 출력하세요.\n",
    "counting_stars = '반짝반짝작은별아름답게빛나네'\n",
    "\n",
    "# 2. 아래는 PAC 회원 강모씨의 주민등록번호 입니다. 이 번호를 연월일 부분과 뒤 숫자 부분으로 나누어 출력해봅시다. \n",
    "MR_kang = '970509-1234567'\n",
    "\n",
    "# 3. 강모씨는 남자입니까 여자입니까? 성별을 나타내는 번호를 출력해보세요.\n",
    "\n",
    "# 4. 누군가가 문구를 손상시켰습니다! 문구를 고쳐봅시다.\n",
    "PAC_Computer_club = 'Physical Advanced Cocoball PAC!'"
   ]
  },
  {
   "cell_type": "markdown",
   "metadata": {
    "id": "l7CiwnW01uwD"
   },
   "source": []
  },
  {
   "cell_type": "markdown",
   "metadata": {
    "id": "vQ8jM21yvikn"
   },
   "source": [
    "# 리스트 자료형"
   ]
  },
  {
   "cell_type": "code",
   "execution_count": null,
   "metadata": {
    "id": "5efQDjYd3k1b"
   },
   "outputs": [],
   "source": [
    "# 리스트 만들기\n",
    "\n",
    "a = []\n",
    "b = [1, 2, 3]\n",
    "c = [\"a\", 'b', \"c\"]\n",
    "d = [1, 'A', 2, 'A', 3, 'B']   #문자열과 숫자 혼용가능, 중복 가능\n",
    "e = [1, 2, 3, [4, 5, 6]]   #리스트 안에 리스트 집어넣기 가능\n",
    "\n",
    "#이런식으로 형태를 바꿀 수 있어요!\n",
    "X = 'abcdefghijklmn'\n",
    "Y = list(X)\n",
    "print(Y)\n",
    "print(type(Y))"
   ]
  },
  {
   "cell_type": "code",
   "execution_count": null,
   "metadata": {
    "id": "Nud3cbzK351K"
   },
   "outputs": [],
   "source": [
    "# 인덱싱과 슬라이싱\n",
    "\n",
    "#익숙한 단어가 등장하지 않았는가? 맞다 그거랑 거의 같다.\n",
    "\n",
    "#인덱싱\n",
    "a = [1, 2, 3, [4, 5, 6], 'a']\n",
    "\n",
    "print(a[0])\n",
    "print(a[0]+a[1])\n",
    "print(a[-2])\n",
    "print(a[3])\n",
    "print(a[3][0])\n",
    "# a[0] + a[-1] 과 같이, 리스트에 저장된 값의 자료형이 다르면 오류가 발생한다.\n",
    "\n",
    "#슬라이싱\n",
    "a = [1, 2, [3, 4, 5], 6, 7]\n",
    "\n",
    "print(a[:2])\n",
    "print(a[2:])\n",
    "print(a[1:4])"
   ]
  },
  {
   "cell_type": "code",
   "execution_count": null,
   "metadata": {
    "id": "AP9YlQ1R98E7"
   },
   "outputs": [],
   "source": [
    "# 리스트 연산\n",
    "\n",
    "a = [1, 2, 3]\n",
    "b = [4, 5, 6]\n",
    "print(a+b)\n",
    "\n",
    "a = ['a', 2, 'c']\n",
    "print(a*3)\n",
    "\n",
    "a = [1,2,3,4,5,6,7,8,9]\n",
    "print(len(a))\n"
   ]
  },
  {
   "cell_type": "code",
   "execution_count": null,
   "metadata": {
    "id": "Ijypdocx-gLi"
   },
   "outputs": [],
   "source": [
    "# 리스트 수정\n",
    "\n",
    "a = ['PAC', 'is', 'BAD']\n",
    "a[2] = 'GOOD!!!'\n",
    "print(a)\n",
    "\n",
    "a = ['I', 'MY', 'ME', 'MINE']\n",
    "del a[0]\n",
    "print(a)\n",
    "del a[0:2]"
   ]
  },
  {
   "cell_type": "code",
   "execution_count": null,
   "metadata": {
    "id": "KMCjNAD0-m9S"
   },
   "outputs": [],
   "source": [
    "# 리스트 관련 함수\n",
    "\n",
    "a = [1,2,3]\n",
    "a.append(5)\n",
    "print(a)\n",
    "a.append([6,7])\n",
    "print(a)\n",
    "\n",
    "a = [1,3,5,7,9,2,4,6,8,0]\n",
    "a.sort()\n",
    "print(a)\n",
    "a = ['a', 'b', 'c']\n",
    "a.sort(reverse=True)\n",
    "print(a)\n",
    "\n",
    "a = [1,3,5,7,2,4,6,8]\n",
    "a.reverse()\n",
    "print(a)\n",
    "\n",
    "a = [1,2,3]\n",
    "print(a.index(1))   #만약 리스트 안에 해당 문자열/숫자가 없으면 오류 발생\n",
    "\n",
    "a = [1,2,3]\n",
    "a.insert(0,0)   #(a,b) a 위치에 b 삽입\n",
    "print(a)\n",
    "\n",
    "a = [1,2,3,2,1,1,1]\n",
    "a.remove(1)\n",
    "print(a)   #첫 번째로 나오는 요소만 제거\n",
    "\n",
    "a = [1,2,1,1,3]\n",
    "print(a)\n",
    "print(a.pop())   #리스트 마지막 요소를 돌려주고 해당 요소는 삭제\n",
    "print(a)\n",
    "print(a.pop(1))   #해당 위치의 요소를 돌려주고 해당 요소는 삭제\n",
    "print(a)\n",
    "\n",
    "a = [1,2,2,3,3,3,4,4,4,4]\n",
    "print(a.count(4))\n",
    "\n",
    "a = [1,2,3]\n",
    "a.extend([4,5])   #extend에는 리스트만 올 수 있습니다!\n",
    "print(a)\n",
    "a.extend([6,[7,8]])\n",
    "print(a)"
   ]
  },
  {
   "cell_type": "code",
   "execution_count": null,
   "metadata": {
    "id": "O_mE6iM2DcEd"
   },
   "outputs": [],
   "source": [
    "# 연습문제\n",
    "\n",
    "# 1. 아래 주어진 리스트를 하나의 문자열로 출력해보세요\n",
    "something = ['bed', 'laptop', 'cheese']\n",
    "\n",
    "# 2. 이번에는 하나의 문자열로 출력하되, 가운데 띄워쓰기가 들어가게 해볼까요?\n",
    "pilzeok = ['햇빛이','선명하게','나뭇잎을','핥고','있었다.']\n",
    "\n",
    "# 3. 아래 주어진 변수들을 전부 내림하세요. 예) 14.2234 -> 14.0\n",
    "c = 5.6694\n",
    "d = 7.5569\n",
    "e = 23.4"
   ]
  },
  {
   "cell_type": "markdown",
   "metadata": {
    "id": "Eq9HVNAoQqVC"
   },
   "source": [
    "# 튜플 자료형"
   ]
  },
  {
   "cell_type": "code",
   "execution_count": null,
   "metadata": {
    "colab": {
     "base_uri": "https://localhost:8080/"
    },
    "id": "OW03LoQVQsv-",
    "outputId": "e0d1b7c3-3d61-4e2a-ce83-91623a17267c"
   },
   "outputs": [
    {
     "name": "stdout",
     "output_type": "stream",
     "text": [
      "(1, 2, 3, 4, 5)\n",
      "<class 'tuple'>\n"
     ]
    }
   ],
   "source": [
    "# 튜플 만들기\n",
    "\n",
    "tup = (1,2,3,4)   #튜플은 리스트와 달리 소괄호를 사용\n",
    "#한 번 생성한 튜플은 그 값을 바꿀 수 없음.\n",
    "\n",
    "# 이 외의 특성 및 내장함수는 리스트와 유사\n",
    "\n",
    "#이런식으로 형태를 바꿀 수 있어요!\n",
    "X = [1,2,3,4,5]\n",
    "Y = tuple(X)\n",
    "print(Y)\n",
    "print(type(Y))"
   ]
  },
  {
   "cell_type": "code",
   "execution_count": null,
   "metadata": {
    "colab": {
     "base_uri": "https://localhost:8080/"
    },
    "id": "HDYfyXlsRNrk",
    "outputId": "1b1af880-6ef2-4ea4-84ee-44d074886104"
   },
   "outputs": [
    {
     "name": "stdout",
     "output_type": "stream",
     "text": [
      "1\n",
      "(1, 2)\n",
      "(2, ('a', 'b', 'c'))\n",
      "(1, 2, ('a', 'b', 'c'), 1, 2, ('a', 'b', 'c'), 1, 2, ('a', 'b', 'c'))\n",
      "3\n"
     ]
    }
   ],
   "source": [
    "# 튜플 가지고 놀기\n",
    "\n",
    "t1 = (1,2,('a','b','c'))\n",
    "\n",
    "print(t1[0])\n",
    "print(t1[:2])\n",
    "print(t1[1:])\n",
    "print(t1 * 3)\n",
    "print(len(t1))"
   ]
  },
  {
   "cell_type": "code",
   "execution_count": null,
   "metadata": {
    "id": "xZftCxmMRsBV"
   },
   "outputs": [],
   "source": [
    "# 연습문제\n",
    "\n",
    "# 1. 1, 2, 3, [4, 5], (6, 7) 을 요소로 갖는 튜플을 생성해보세요.\n",
    "\n",
    "# 2. 만든 튜플의 1을 0으로 바꿔봅시다. 운이 좋으면 될 수도 있잖아요 ^~^?"
   ]
  },
  {
   "cell_type": "markdown",
   "metadata": {
    "id": "S87xL248sH1S"
   },
   "source": [
    "# 딕셔너리 자료형"
   ]
  },
  {
   "cell_type": "code",
   "execution_count": null,
   "metadata": {
    "colab": {
     "base_uri": "https://localhost:8080/"
    },
    "id": "KID_DVEesKZx",
    "outputId": "9fbea955-dbc3-45c9-b470-3698751738b8"
   },
   "outputs": [
    {
     "name": "stdout",
     "output_type": "stream",
     "text": [
      "{1: 'hi', 2: 'chicken', 'hello': 'bye', 'three?': 3, 'list': [1, 2, 3]}\n",
      "3\n",
      "{1: 'hi', 2: 'chicken', 'hello': 'bye', 'three?': 3, 'list': [1, 2, 3], 4: 'four'}\n",
      "{1: 'hi', 2: 'chicken', 'hello': 'bye', 'three?': 3, 'list': [1, 2, 3]}\n"
     ]
    }
   ],
   "source": [
    "# 딕셔너리 만들기\n",
    "\n",
    "d = {1:'hi', 2:'chicken', 'hello':'bye', 'three?': 3, 'list':[1,2,3]}   #딕셔너리는 중괄호 사용\n",
    "print(d)   #딕셔너리는 key:Value의 모음\n",
    "print(d[\"three?\"])\n",
    "\n",
    "# 딕셔너리 쌍 추가 및 삭제\n",
    "\n",
    "d[4]='four'\n",
    "d['1']=1\n",
    "print(d)   #Key 값이 중복되면 하나를 제외한 나머지는 무시됨! 1:1 대응구조\n",
    "           #여기엔 없지만, Key 값에는 리스트가 들어갈 수 없음. 한번씩 해봅시다^~^\n",
    "del d[4]\n",
    "print(d)"
   ]
  },
  {
   "cell_type": "code",
   "execution_count": null,
   "metadata": {
    "colab": {
     "base_uri": "https://localhost:8080/"
    },
    "id": "rNfk3zc5sygW",
    "outputId": "088095de-3633-4926-cf8a-9be789c330a4"
   },
   "outputs": [
    {
     "name": "stdout",
     "output_type": "stream",
     "text": [
      "dict_keys([1, 2, 3, 4, 'ex'])\n",
      "dict_values([20, 21, 22, 23, 'mollang'])\n",
      "dict_items([(1, 20), (2, 21), (3, 22), (4, 23), ('ex', 'mollang')])\n",
      "20\n",
      "True\n",
      "False\n",
      "None\n"
     ]
    }
   ],
   "source": [
    "# 딕셔너리 관련 함수\n",
    "\n",
    "age = {1:20, 2:21, 3:22, 4:23, 'ex':'mollang'}\n",
    "print(age.keys())   #돌려주는 객체의 자료형은 dict_keys 리스트와 유사하게 사용할 수 있으나 일부 함수 사용불가\n",
    "print(age.values())   #돌려주는 객체의 자료형은 dice_values\n",
    "print(age.items())   #돌려주는 객체의 자료형은 dict_items Key:Value 쌍은 튜플로 묶여있습니다.\n",
    "print(age.get(1))   #age.[1]과 유사한데, 뭐가 다를까요?\n",
    "print(1 in age)   #해당 Key 값이 리스트 안에 있는지 조사\n",
    "print('hello' in age)   #있으면 True, 없으면 False 반환\n",
    "print(age.clear())   #딕셔너리 클리어!"
   ]
  },
  {
   "cell_type": "code",
   "execution_count": null,
   "metadata": {
    "id": "6jEOpBPlAhGP"
   },
   "outputs": [],
   "source": [
    "# 연습문제\n",
    "\n",
    "# 1. 딕셔너리를 하나 만들어볼까요? 현재 수강중인 과목명을 Key로, 희망하는 시험 성적을 Value로 갖는 딕셔너리로 만들어봅시다.\n",
    "\n",
    "# 2. 수강중인 과목에 '입자물리학 입문' 이 있나요? 한번 확인해봅시다!\n",
    "\n",
    "# 3. 딕셔너리를 다 썼으니, 깔끔하게 비워볼까요? 딕셔너리를 지우고 그 값을 출력해보세요."
   ]
  },
  {
   "cell_type": "markdown",
   "metadata": {
    "id": "l3MO4tAGulC3"
   },
   "source": [
    "# 집합 자료형"
   ]
  },
  {
   "cell_type": "code",
   "execution_count": null,
   "metadata": {
    "colab": {
     "base_uri": "https://localhost:8080/"
    },
    "id": "Njrb-t_MuoPC",
    "outputId": "98f24f03-9524-4e69-fc0e-36685c747722"
   },
   "outputs": [
    {
     "name": "stdout",
     "output_type": "stream",
     "text": [
      "{1, 2, 3}\n",
      "{'P', 'U', 'C', 'A', 'N'}\n",
      "set()\n"
     ]
    }
   ],
   "source": [
    "# 집합 만들기\n",
    "\n",
    "s1 = set([1,2,3])\n",
    "s2 = set('PNUPAC')\n",
    "s3 = set()   #공집합\n",
    "\n",
    "print(s1)\n",
    "print(s2)   #집합 자료형의 특징 : 값의 중복 불가, 순서가 없음\n",
    "print(s3)"
   ]
  },
  {
   "cell_type": "code",
   "execution_count": null,
   "metadata": {
    "colab": {
     "base_uri": "https://localhost:8080/"
    },
    "id": "9Dsy1vuTvDCc",
    "outputId": "6f32e7b2-ab55-458e-de53-dcec34706a3a"
   },
   "outputs": [
    {
     "name": "stdout",
     "output_type": "stream",
     "text": [
      "{8, 5, 6, 7}\n",
      "{8, 5, 6, 7}\n",
      "{1, 2, 3, 4, 5, 6, 7, 8, 9, 10}\n",
      "{1, 2, 3, 4, 5, 6, 7, 8, 9, 10}\n",
      "{1, 2, 3, 4}\n",
      "{9, 10}\n"
     ]
    }
   ],
   "source": [
    "# 교집합, 합집합, 차집합\n",
    "\n",
    "s1 = set([1,2,3,4,5,6,7,8])\n",
    "s2 = set({5,6,7,8,9,10})\n",
    "\n",
    "print(s1&s2)\n",
    "print(s1.intersection(s2))\n",
    "print(s1|s2)\n",
    "print(s1.union(s2))\n",
    "print(s1-s2)\n",
    "print(s2-s1)\n",
    "print(s1.difference(s2))\n",
    "print(s2.difference(s1))"
   ]
  },
  {
   "cell_type": "code",
   "execution_count": null,
   "metadata": {
    "colab": {
     "base_uri": "https://localhost:8080/"
    },
    "id": "OK5539y0vUvS",
    "outputId": "4a7fbb21-0720-49a1-d7e0-d5a6e7fbfc9e"
   },
   "outputs": [
    {
     "name": "stdout",
     "output_type": "stream",
     "text": [
      "{1, 2, 3, 4, 5}\n",
      "{1, 2, 3, 4, 5, 6, 7, 8, 9, 10}\n",
      "{1, 2, 3, 4, 6, 7, 8, 9, 10}\n"
     ]
    }
   ],
   "source": [
    "# 집합 관련 함수\n",
    "\n",
    "s1 = set([1,2,3,4])\n",
    "s1.add(5)\n",
    "print(s1)\n",
    "\n",
    "s1.update([6,7,8,9,10])\n",
    "print(s1)\n",
    "\n",
    "s1.remove(5)\n",
    "print(s1)"
   ]
  },
  {
   "cell_type": "code",
   "execution_count": null,
   "metadata": {
    "id": "PuLsRqJzBPRg"
   },
   "outputs": [],
   "source": [
    "# 연습문제\n",
    "\n",
    "# 1. 아래 집합의 공집합을 구해봅시다.\n",
    "s1 = set([1,3,5,7,9])\n",
    "s2 = set([2,4,6,8,0,5])"
   ]
  },
  {
   "cell_type": "markdown",
   "metadata": {
    "id": "76Of2ZlMxit7"
   },
   "source": [
    "# 불 자료형"
   ]
  },
  {
   "cell_type": "code",
   "execution_count": null,
   "metadata": {
    "colab": {
     "base_uri": "https://localhost:8080/"
    },
    "id": "KuIx5j7Axlhc",
    "outputId": "2f7b2bc2-0eb7-402e-89cc-717375d457ca"
   },
   "outputs": [
    {
     "name": "stdout",
     "output_type": "stream",
     "text": [
      "True False\n",
      "<class 'bool'> <class 'bool'>\n"
     ]
    }
   ],
   "source": [
    "# 불 자료형\n",
    "\n",
    "#불 자료형은 아래와 같이 참과 거짓의 값만 가질 수 있음\n",
    "a = True\n",
    "b = False\n",
    "print(a,b)\n",
    "print(type(a), type(b))"
   ]
  },
  {
   "cell_type": "code",
   "execution_count": null,
   "metadata": {
    "id": "TK_MBSTcx7S9"
   },
   "outputs": [],
   "source": [
    "# 자료형의 참과 거짓\n",
    "\n",
    "#참인 경우\n",
    "a = 'Physice'\n",
    "b = [1,2,3,4]\n",
    "c = 1\n",
    "\n",
    "#거짓인 경우\n",
    "d = ''\n",
    "e = []\n",
    "f = ()\n",
    "g = {}\n",
    "h = None"
   ]
  },
  {
   "cell_type": "code",
   "execution_count": null,
   "metadata": {
    "colab": {
     "base_uri": "https://localhost:8080/"
    },
    "id": "DosMgUeFyLGu",
    "outputId": "9a1436e1-dc47-4f67-c0c4-19043d5f907b"
   },
   "outputs": [
    {
     "name": "stdout",
     "output_type": "stream",
     "text": [
      "True\n",
      "False\n"
     ]
    }
   ],
   "source": [
    "# 불 연산\n",
    "\n",
    "print(bool('Physics'))\n",
    "print(bool(''))\n",
    "#해당 자료형이 참인지 거짓인지 돌려준답니다"
   ]
  },
  {
   "cell_type": "code",
   "execution_count": null,
   "metadata": {
    "id": "dU3GLvDMBZ_E"
   },
   "outputs": [],
   "source": [
    "# 연습문제\n",
    "\n",
    "# 1. 아래 자료형의 참/거짓을 판별해봅시다.\n",
    "a = \"PAC is boardgame club\"\n",
    "b = 0\n",
    "c = ['somebody', 'help', 'me!']\n",
    "d = (0)"
   ]
  },
  {
   "cell_type": "markdown",
   "metadata": {
    "id": "eJJqDd56yfwn"
   },
   "source": [
    "# 변수"
   ]
  },
  {
   "cell_type": "code",
   "execution_count": null,
   "metadata": {
    "id": "YZ-VIzbcyh0I"
   },
   "outputs": [],
   "source": [
    "# 변수 만들기\n",
    "\n",
    "#우리는 이미 변수를 사용해왔답니다 (기초파트 참고)\n",
    "\n",
    "a = 1\n",
    "b = 'PAC'\n",
    "c = [1,2,3,4]\n",
    "num = 11111\n",
    "# a, b, c, num은 전부 변수"
   ]
  },
  {
   "cell_type": "code",
   "execution_count": null,
   "metadata": {
    "colab": {
     "base_uri": "https://localhost:8080/"
    },
    "id": "M-iVWXP0777o",
    "outputId": "17391ae0-6d90-4638-fc24-f37f84f9eb22"
   },
   "outputs": [
    {
     "name": "stdout",
     "output_type": "stream",
     "text": [
      "139702319824560\n"
     ]
    }
   ],
   "source": [
    "# 변수?\n",
    "\n",
    "#변수는 객체를 가리키는 것이라고 할 수 있음\n",
    "#객체는 자료형과 같은 것을 의미(추후 객체에 대해 자세히 공부할 예정임니다^~^)\n",
    "\n",
    "ex = [1,2,3]\n",
    "#위의 예시에서 [1,2,3] 값을 가지는 리스트 자료형(객체)이 메모리에 생성되고 변수 ex는 리스트가 저장된 메모리의 주소를 가리킴.\n",
    "\n",
    "print(id(ex))   #id 함수는 변수가 가리키고 있는 객체 주소값을 돌려줌"
   ]
  },
  {
   "cell_type": "code",
   "execution_count": null,
   "metadata": {
    "colab": {
     "base_uri": "https://localhost:8080/"
    },
    "id": "gx80NGmq8zCU",
    "outputId": "6ab51e5e-e981-4212-c581-30be63ebe8c3"
   },
   "outputs": [
    {
     "name": "stdout",
     "output_type": "stream",
     "text": [
      "139702319453680\n",
      "139702319453680\n",
      "True\n",
      "[123, 555, 789]\n",
      "[123, 555, 789]\n",
      "139702319455680\n",
      "139702319266384\n",
      "False\n"
     ]
    }
   ],
   "source": [
    "# 리스트 복사\n",
    "\n",
    "a = [123,456,789]\n",
    "b = a\n",
    "\n",
    "print(id(a))\n",
    "print(id(b))   #두 id값이 동일!\n",
    "\n",
    "print(a is b) #두 객체는 동일!\n",
    "\n",
    "a[1] = 555\n",
    "print(a)\n",
    "print(b)   #a를 수정하면 b도 변경됨!\n",
    "\n",
    "a = [123,456,789]\n",
    "b = a[:]\n",
    "print(id(a))\n",
    "print(id(b))\n",
    "print(a is b)\n",
    "#혹은 copy 모듈을 사용할 수도 있음(향후 모듈에서 자세히 설명)\n"
   ]
  },
  {
   "cell_type": "code",
   "execution_count": null,
   "metadata": {
    "colab": {
     "base_uri": "https://localhost:8080/"
    },
    "id": "60RJmlMr9ldZ",
    "outputId": "66f38acd-b86f-4c03-d7ce-795a29dde67e"
   },
   "outputs": [
    {
     "name": "stdout",
     "output_type": "stream",
     "text": [
      "5\n",
      "3\n"
     ]
    }
   ],
   "source": [
    "# 변수 만들기\n",
    "\n",
    "a, b = 'PAC', 'Club'\n",
    "a, b = ('PAC', 'Club')\n",
    "(a, b) = 'PAC', 'Club'\n",
    "[a, b] = ['Hello', 'World']\n",
    "a = b = 'cola'\n",
    "\n",
    "a = 3\n",
    "b = 5\n",
    "a, b = b, a\n",
    "print(a)\n",
    "print(b)"
   ]
  },
  {
   "cell_type": "code",
   "execution_count": null,
   "metadata": {
    "id": "3xdwFRNSByOg"
   },
   "outputs": [],
   "source": [
    "# 연습문제\n",
    "\n",
    "# 1. 아래와 같은 입력값이 주어질 때, 아래 코드를 수정하여 a, b에 각각의 값을 할당해봅시다.\n",
    "# 입력값 : 3, 5\n",
    "a, b = input()"
   ]
  },
  {
   "cell_type": "markdown",
   "metadata": {
    "id": "I_wX4K7lSNOY"
   },
   "source": [
    "# 문제"
   ]
  },
  {
   "cell_type": "code",
   "execution_count": null,
   "metadata": {
    "id": "6q5Azl82Tb0c"
   },
   "outputs": [],
   "source": [
    "# 이번주의 문제\n",
    "\n",
    "# 1. 아래 주어진 변수들을 전부 내림하세요. 예) 14.2234 -> 14.0\n",
    "c = 5.6694\n",
    "d = 7.5569\n",
    "e = 23.4\n",
    "\n",
    "# 2. 다음 문자열에서 '홀' 만 출력하세요.\n",
    "string = '홀짝홀짝홀짝홀짝홀짝홀짝홀짝홀짝홀짝홀짝홀짝홀짝'\n",
    "\n",
    "# 3. 다음 문자열의 'a'를 전부 'A' 로 바꿔보세요.\n",
    "alphabet = 'aabbccddeeffggkkkk'\n",
    "\n",
    "# 4. 다음 변수들을 f 포메팅을 이용해서 아래 형식으로 출력해보세요.\n",
    "# xx학번은 y학년입니다.\n",
    "name1 = '19학번'\n",
    "age1 = 4\n",
    "name2 = '22학번'\n",
    "age2 = 1\n",
    "\n",
    "# 5. 다음 두 리스트를 하나로 합쳐보세요.\n",
    "lang_1 = ['C', 'C++', 'C#']\n",
    "pypy = ['Python', 'Numpy', 'Pandas', 'Scikit_learn', 'Pytorch', 'Tensorflow']\n",
    "\n",
    "# 6. 모 PAC 회원의 기말고사 성적은 아래와 같습니다. 가장 높은 점수를 출력하세요.\n",
    "score = [26, 47, 91, 33, 29]\n",
    "\n",
    "# 7. 다른 PAC 회원의 학점은 아래와 같다네요. 높은 순서대로 정렬해볼까요?\n",
    "grade = ['C', 'B', 'B', 'A', 'F', 'A']\n",
    "\n",
    "# 8. 주어진 리스트를 아래와 같이 출력해볼까요?\n",
    "# 울릉도\n",
    "# 동남쪽\n",
    "# 뱃길따라\n",
    "# 이백리\n",
    "stocks = ['카카오', 'SK하이닉스', '삼성전자', '테슬라', '화성갈끄니까']\n",
    "\n",
    "# 9. 아래 변수의 타입은 무엇일까요?\n",
    "a = 1,2,3,4\n",
    "\n",
    "# 10. Key 값으로 아래 상품명을, Value 값으로 [가격, 재고]를 갖는 딕셔너리를 생성하세요.\n",
    "# 표기 순서는 상품명, 가격, 재고입니다.\n",
    "# 바밤바 300 10\n",
    "# 스크류바 500 3\n",
    "# 붕어싸만코 1000 7\n",
    "\n",
    "# 11. 문제 10에서 만들었던 리스트에서. 붕어싸만코의 재고를 출력해보세요.\n",
    "\n",
    "# 12. 주어진 리스트의 중복값을 전부 제거하고, 점수가 높은 순서로 정렬하여 출력하세요.\n",
    "score = [50,60,70,23,45,83,27,50,80,45,33]\n",
    "\n",
    "# 13. 출력될 값을 예상해봅시다. 무엇이 나올까요?\n",
    "a, b, *c = (0,1,2,3,4,5,6,7,8)\n",
    "print(a)\n",
    "print(b)\n",
    "print(c)"
   ]
  },
  {
   "cell_type": "markdown",
   "metadata": {
    "id": "ryWHSpE9WejQ"
   },
   "source": []
  },
  {
   "cell_type": "markdown",
   "metadata": {
    "id": "7nqGBzf-ST2G"
   },
   "source": [
    "**추가 문제**\n",
    "\n",
    "BOJ의 단계별로 문제풀기 - 입출력과 사칙연산을 풀어봅시다.\n",
    "- https://www.acmicpc.net/step/1\n",
    "- 입출력과 사칙연산은 상당히 쉽습니다. 하지만, 문제를 푸려면 아래 참고사항이 필요할수도 있답니다 ^~^~^\n",
    "\n",
    "참고\n",
    "- 참고 1) 입력값을 받는 문제는, input() 함수로 입력값을 받을 수 있습니다.\n",
    "- 참고 2) 받은 입력값을 사용하려면, 변수지정을 해줘야겠죠? ex) num = int(input())\n",
    "- 참고 3) 입력값을 여러개 받으려면 어떻게 해야할까요? 입력값이 콤마로 구분되어있나요? split 함수가 뭐였더라...? map 함수는 또 뭐지...?\n",
    "- 참고 4) 받은 입력값으로 원하는 연산을 취하려면, 자료형을 바꿔야 할 때도 있습니다. 반드시 숫자 처리를 정수형이나 실수형으로 할 필요는 없어요.\n",
    "- 참고 5) 잊지 마세요! 모르는게 있다면 Jump to Python wikidocs를 찾아보거나 google신을 호출하세요! 하지만 어디까지나, 본인 힘으로 문제를 풀다 막힐 때에요!\n",
    "\n",
    "Infinite Challenge\n",
    "\n",
    "- 문제가 너무 쉬운가요? 그럼 아래 문제는 어떤가요?\n",
    "- 주의) 제가 풀어보고 선정한 문제는 아니에요... 오늘 공부한 내용만으로는 풀 수 없을수도 있답니다 ㅠ~ㅠ\n",
    "- 참고) 실버 난이도의 문제가 쉽거나, 골드 난이도의 문제를 풀 수 있다면 이번 기초 Python 스터디는 needs를 충족시켜드리기 어려울거에요.\n",
    "- 이번 스터디의 난이도가 쉽다면, PAC에 숨어있는 능력자들을 찾아, 코딩 공부에 도움을 받아보세요! (보통은 대학원생들이 그렇답니다 ^~^~^)\n",
    "\n",
    "1. 카우버거 : 햄버거가게 알바생이 되어 POS에 세트할인 기능을 추가해봅시다. (난이도 : 실버 5)\n",
    "- https://www.acmicpc.net/problem/15720\n",
    "2. 아 저는 볶음밥이요 : 뭘 시켜야 서비스 군만두를 가장 많이 받을 수 있지? (난이도 : 실버 2)\n",
    "- https://www.acmicpc.net/problem/23814\n",
    "3. 금고 열기 : 주어진 비밀번호로 금고를 열 수 있을까?! (난이도 : 골드 3)\n",
    "- https://www.acmicpc.net/problem/9320"
   ]
  }
 ],
 "metadata": {
  "colab": {
   "collapsed_sections": [
    "jzvgX72sfH5m",
    "NCTfMYAwk2I2",
    "kf7drLW3k2zn",
    "vQ8jM21yvikn",
    "Eq9HVNAoQqVC",
    "S87xL248sH1S",
    "l3MO4tAGulC3",
    "76Of2ZlMxit7",
    "eJJqDd56yfwn",
    "I_wX4K7lSNOY"
   ],
   "name": "2022_PAC_Python_1.ipynb",
   "provenance": [],
   "toc_visible": true
  },
  "kernelspec": {
   "display_name": "Python 3",
   "language": "python",
   "name": "python3"
  },
  "language_info": {
   "codemirror_mode": {
    "name": "ipython",
    "version": 3
   },
   "file_extension": ".py",
   "mimetype": "text/x-python",
   "name": "python",
   "nbconvert_exporter": "python",
   "pygments_lexer": "ipython3",
   "version": "3.8.8"
  }
 },
 "nbformat": 4,
 "nbformat_minor": 1
}
