{
 "cells": [
  {
   "cell_type": "code",
   "execution_count": null,
   "id": "19728d98",
   "metadata": {},
   "outputs": [],
   "source": []
  },
  {
   "cell_type": "code",
   "execution_count": 1,
   "id": "7281de0d",
   "metadata": {},
   "outputs": [],
   "source": [
    "# 연습문제\n",
    "\n",
    "# 1. 임의의 변수에 문자열 '2022_PAC_Python_study' 를 대입해보세요.\n",
    "# 2. 임의의 변수에 숫자 '369369' 를 대입해보세요.\n",
    "# 3. print를 이용해서 문자열 'PAC' 을 출력해보세요.\n",
    "# 4. 문제 1, 2에서 생성한 변수를 각각 출력해보세요."
   ]
  },
  {
   "cell_type": "code",
   "execution_count": 6,
   "id": "09a5fc1e",
   "metadata": {},
   "outputs": [
    {
     "name": "stdout",
     "output_type": "stream",
     "text": [
      "PAC\n",
      "2022_PAC_Python_study\n",
      "369369\n"
     ]
    }
   ],
   "source": [
    "#1\n",
    "studyName = '2022_PAC_Python_study'\n",
    "\n",
    "#2\n",
    "numExample = 369369\n",
    "\n",
    "#3\n",
    "print('PAC')\n",
    "\n",
    "#4\n",
    "print(strStudy)\n",
    "print(intNum)"
   ]
  },
  {
   "cell_type": "code",
   "execution_count": 7,
   "id": "e3726de4",
   "metadata": {},
   "outputs": [],
   "source": [
    "# 연습문제\n",
    "\n",
    "# 1. 아래 주어진 변수들을 이용해서, 숫자 10을 만드세요.\n",
    "a = 3\n",
    "b = 5\n",
    "\n",
    "# 2. 아래는 전산물리학을 수강한 수강생의 과제 점수입니다. 평균을 계산해보세요.\n",
    "HW_1 = 50\n",
    "HW_2 = 27\n",
    "HW_3 = 74\n",
    "\n",
    "# 3. 9876543210 을 1234567890으로 나누면 몫은 얼마일까요? 나머지는요?"
   ]
  },
  {
   "cell_type": "code",
   "execution_count": 9,
   "id": "62f9fd22",
   "metadata": {},
   "outputs": [
    {
     "name": "stdout",
     "output_type": "stream",
     "text": [
      "10\n",
      "전산물리학 수강생의 평균은 50.333333점\n"
     ]
    }
   ],
   "source": [
    "#1\n",
    "print(b+b)\n",
    "\n",
    "#2\n",
    "arrHW = [HW_1, HW_2, HW_3]\n",
    "avg = sum(arrHW)/len(arrHW)\n",
    "print('전산물리학 수강생의 평균은 %f점' %avg)\n",
    "\n"
   ]
  },
  {
   "cell_type": "code",
   "execution_count": null,
   "id": "88e4b162",
   "metadata": {},
   "outputs": [],
   "source": []
  }
 ],
 "metadata": {
  "kernelspec": {
   "display_name": "Python 3",
   "language": "python",
   "name": "python3"
  },
  "language_info": {
   "codemirror_mode": {
    "name": "ipython",
    "version": 3
   },
   "file_extension": ".py",
   "mimetype": "text/x-python",
   "name": "python",
   "nbconvert_exporter": "python",
   "pygments_lexer": "ipython3",
   "version": "3.8.8"
  }
 },
 "nbformat": 4,
 "nbformat_minor": 5
}
